{
 "cells": [
  {
   "cell_type": "markdown",
   "id": "574fb33a-f3b5-477b-8c00-e139267063dc",
   "metadata": {
    "id": "574fb33a-f3b5-477b-8c00-e139267063dc"
   },
   "source": [
    "# Homework 1: Statistics & GWAS\n",
    "The modules for this assignment were taught by Professor Graham McVicker."
   ]
  },
  {
   "cell_type": "markdown",
   "id": "09d229ac-c7d4-4a80-857e-f7f3c0d2a2ce",
   "metadata": {
    "id": "09d229ac-c7d4-4a80-857e-f7f3c0d2a2ce"
   },
   "source": [
    "**Name:** *your_name_here*\n",
    "\n",
    "**PID:** *your_PID_here*"
   ]
  },
  {
   "cell_type": "markdown",
   "id": "5cb2e080-dbbb-4b34-9c97-f499b5c0cd62",
   "metadata": {
    "id": "5cb2e080-dbbb-4b34-9c97-f499b5c0cd62"
   },
   "source": [
    "## Instructions"
   ]
  },
  {
   "cell_type": "markdown",
   "id": "f218b62d-b116-4ce4-aaa3-0da161ef9509",
   "metadata": {
    "id": "f218b62d-b116-4ce4-aaa3-0da161ef9509"
   },
   "source": [
    "Answer the following questions in your own words using a Jupyter notebook and upload a PDF of your code and written answers to Gradescope. Make sure to write your name and PID at the start of your answers. This assignment is due 1/30/25 at 9:00AM."
   ]
  },
  {
   "cell_type": "markdown",
   "id": "7fb0b8c3-2591-4767-9947-82a89a4d2f6c",
   "metadata": {
    "id": "7fb0b8c3-2591-4767-9947-82a89a4d2f6c"
   },
   "source": [
    "See this document for instructions on creating a Jupyter notebook:\n",
    "\n",
    "https://docs.google.com/document/d/15Ux16sVp9EsBU_tJiqCMJnrqqjuBor5s/edit?usp=sharing&ouid=102134196267797631717&rtpof=true&sd=true\n",
    "\n",
    "Please use the cmm262-notebook:stats environment for this assignment. Use the R[conda env:stats] kernel."
   ]
  },
  {
   "cell_type": "markdown",
   "id": "c447d03d-ce3b-4cd1-be12-d56995e32993",
   "metadata": {
    "id": "c447d03d-ce3b-4cd1-be12-d56995e32993"
   },
   "source": [
    "## Part 1: Statistics\n",
    "\n",
    "Flora colossus is a plant-like organism native to the planet X. This species is capable of human speech but their vocabulary consists solely of three words: \"I\", \"am\", and their name. It is thought that F. colossus can communicate a vast array of complex thoughts and expressions through the pitch and intonation of these three words, but an exact translation has not yet been thoroughly explored.\n",
    "\n",
    "In an attempt at decoding these rules, scientists asked an F. colossus named Groot to translate a set of 50 words carrying either a negative (neg) or positive (pos) connotation (con). They recorded the responses to each word, and extracted the highest pitch from each response. Their data appears in the file colossus_pitch.csv"
   ]
  },
  {
   "cell_type": "markdown",
   "id": "71ad2381-9db2-4362-bc1f-066450ca0d4c",
   "metadata": {
    "id": "71ad2381-9db2-4362-bc1f-066450ca0d4c"
   },
   "source": [
    "The following questions refer to this file:\n"
   ]
  },
  {
   "cell_type": "code",
   "execution_count": null,
   "id": "931d2d87-e45b-4b38-ad6a-6eb12d2089a5",
   "metadata": {
    "id": "931d2d87-e45b-4b38-ad6a-6eb12d2089a5",
    "vscode": {
     "languageId": "r"
    }
   },
   "outputs": [],
   "source": [
    "# let's load the data into a variable named \"data\"\n",
    "data = read.csv(\"colossus_pitch.csv\")\n",
    "head(data)"
   ]
  },
  {
   "cell_type": "markdown",
   "id": "3d711116-480b-45e4-8470-cee37dbcbd0c",
   "metadata": {
    "id": "3d711116-480b-45e4-8470-cee37dbcbd0c"
   },
   "source": [
    "### Problem 1"
   ]
  },
  {
   "cell_type": "markdown",
   "id": "abe61ce9-04e3-47a2-b7e9-1738ecbf6d4c",
   "metadata": {
    "id": "abe61ce9-04e3-47a2-b7e9-1738ecbf6d4c"
   },
   "source": [
    "Plot two histograms for the pitches in response to 1) the negative words and 2) the positive words. Please label your axes. Based on the plots, do you think there is a significant difference between the two variables? Justify your reasoning. (3 points)"
   ]
  },
  {
   "cell_type": "markdown",
   "id": "8a7bcb1d-4296-4795-b4d8-439d67fc168f",
   "metadata": {
    "id": "8a7bcb1d-4296-4795-b4d8-439d67fc168f"
   },
   "source": [
    "ANSWER:"
   ]
  },
  {
   "cell_type": "code",
   "execution_count": null,
   "id": "5291ef68-8591-4e46-b17e-17b4e4e13fa2",
   "metadata": {
    "id": "5291ef68-8591-4e46-b17e-17b4e4e13fa2",
    "vscode": {
     "languageId": "r"
    }
   },
   "outputs": [],
   "source": []
  },
  {
   "cell_type": "markdown",
   "id": "49e22ab9-0217-4a21-83c8-a3a3022a0c5b",
   "metadata": {
    "id": "49e22ab9-0217-4a21-83c8-a3a3022a0c5b"
   },
   "source": [
    "### Problem 2"
   ]
  },
  {
   "cell_type": "markdown",
   "id": "a060d8e7-f5b9-4c59-a114-6b82676da6a3",
   "metadata": {
    "id": "a060d8e7-f5b9-4c59-a114-6b82676da6a3"
   },
   "source": [
    "Report the mean and standard deviation of the pitches for 1) the negative words and 2) the positive words. (2 points)"
   ]
  },
  {
   "cell_type": "code",
   "execution_count": null,
   "id": "78301589-5d6c-4087-b798-7f2872635745",
   "metadata": {
    "id": "78301589-5d6c-4087-b798-7f2872635745",
    "vscode": {
     "languageId": "r"
    }
   },
   "outputs": [],
   "source": []
  },
  {
   "cell_type": "markdown",
   "id": "a093b4c0-384a-4d9d-87cb-0c3ff539e879",
   "metadata": {
    "id": "a093b4c0-384a-4d9d-87cb-0c3ff539e879"
   },
   "source": [
    "### Problem 3"
   ]
  },
  {
   "cell_type": "markdown",
   "id": "9b5217f2-17a7-4d51-8c3c-0b2b01824c14",
   "metadata": {
    "id": "9b5217f2-17a7-4d51-8c3c-0b2b01824c14"
   },
   "source": [
    "The scientists think that F. colossus will respond with a lower pitch to words carrying a negative connotation and a higher pitch to words carrying a positive connotation. Use your results from the previous question to calculate a z-score and the p-value (using the pnorm function) for this hypothesis. (1 point) Under the threshold α=0.05, is this a significant result? Was the scientists’ hypothesis correct? (1 point) "
   ]
  },
  {
   "cell_type": "markdown",
   "id": "f6d51f93-abd8-4b9d-92c1-420211cea703",
   "metadata": {
    "id": "f6d51f93-abd8-4b9d-92c1-420211cea703"
   },
   "source": [
    "ANSWER:"
   ]
  },
  {
   "cell_type": "code",
   "execution_count": null,
   "id": "4baf6c56-a558-4c83-beb6-31cfc6164e43",
   "metadata": {
    "id": "4baf6c56-a558-4c83-beb6-31cfc6164e43",
    "vscode": {
     "languageId": "r"
    }
   },
   "outputs": [],
   "source": []
  },
  {
   "cell_type": "markdown",
   "id": "b2a0b503-ea68-46c7-bbca-8e526b84d569",
   "metadata": {
    "id": "b2a0b503-ea68-46c7-bbca-8e526b84d569"
   },
   "source": [
    "### Problem 4"
   ]
  },
  {
   "cell_type": "markdown",
   "id": "0dd37635-93d8-48f0-bc69-b79f0baeed6f",
   "metadata": {
    "id": "0dd37635-93d8-48f0-bc69-b79f0baeed6f"
   },
   "source": [
    "What would be the scientists’ hypothesis that makes a two-sided z-test appropriate? State the hypothesis, calculate a z-score and the p-value (using the pnorm function) for this hypothesis. (1 point) Under the threshold α=0.05, is this a significant result? Was the scientists’ hypothesis correct? (1 point) "
   ]
  },
  {
   "cell_type": "markdown",
   "id": "4329fd24-2642-4b3b-a7ab-626ef5a58f3a",
   "metadata": {
    "id": "4329fd24-2642-4b3b-a7ab-626ef5a58f3a"
   },
   "source": [
    "ANSWER:"
   ]
  },
  {
   "cell_type": "markdown",
   "id": "c6fcae47-66b4-40d1-8476-b0884d460138",
   "metadata": {
    "id": "c6fcae47-66b4-40d1-8476-b0884d460138",
    "vscode": {
     "languageId": "r"
    }
   },
   "source": [
    "### Problem 5"
   ]
  },
  {
   "cell_type": "markdown",
   "id": "7ad8ae08",
   "metadata": {},
   "source": [
    "Let's say that we decide to use a t-test instead of a z-test. What kind of distribution are we assuming that the sample means (of the pitches) follow now? Are we now more or less likely to reject the null hypothesis? For full credit, please justify your response. Hint: sketch out the distributions on paper. (3 points) "
   ]
  },
  {
   "cell_type": "markdown",
   "id": "af1b8ac5",
   "metadata": {},
   "source": [
    "ANSWER:"
   ]
  },
  {
   "cell_type": "markdown",
   "id": "a0696bc3",
   "metadata": {},
   "source": [
    "## Part 2: GWAS"
   ]
  },
  {
   "cell_type": "markdown",
   "id": "8324f1be",
   "metadata": {},
   "source": [
    "![](qqplot.png)"
   ]
  },
  {
   "cell_type": "markdown",
   "id": "b14b7804",
   "metadata": {},
   "source": [
    "Shown above is a qq-plot for a list of p-values. Answer the following questions by referring to this plot. "
   ]
  },
  {
   "cell_type": "markdown",
   "id": "c1556b24",
   "metadata": {},
   "source": [
    "### Problem 6"
   ]
  },
  {
   "cell_type": "markdown",
   "id": "ebb0b942",
   "metadata": {},
   "source": [
    "Under the null hypothesis, how should the p-values be distributed (i.e. What distribution should they come from)? (1 point) "
   ]
  },
  {
   "cell_type": "markdown",
   "id": "59167fcd",
   "metadata": {},
   "source": [
    "ANSWER:"
   ]
  },
  {
   "cell_type": "markdown",
   "id": "ccfc81c9",
   "metadata": {},
   "source": [
    "### Problem 7"
   ]
  },
  {
   "cell_type": "markdown",
   "id": "ffd8c837",
   "metadata": {},
   "source": [
    "Do you notice a problem with the p-values from the zoomed-in plot? What is occurring with the p-values? (1 point) Are we more likely to have false negatives or false positives? (1 point) "
   ]
  },
  {
   "cell_type": "markdown",
   "id": "47540c49",
   "metadata": {},
   "source": [
    "ANSWER:"
   ]
  },
  {
   "cell_type": "markdown",
   "id": "4ac9b0da",
   "metadata": {},
   "source": [
    "### Problem 8"
   ]
  },
  {
   "cell_type": "markdown",
   "id": "5b9d40aa",
   "metadata": {},
   "source": [
    "What could cause this problem with the p-values? Discuss one phenomenon that could cause this problem and how you can correct this problem experimentally. (2 points) "
   ]
  },
  {
   "cell_type": "markdown",
   "id": "fc5081ec",
   "metadata": {},
   "source": [
    "ANSWER:"
   ]
  }
 ],
 "metadata": {
  "colab": {
   "provenance": []
  },
  "kernelspec": {
   "display_name": "Python 3 (ipykernel)",
   "language": "python",
   "name": "python3"
  },
  "language_info": {
   "codemirror_mode": {
    "name": "ipython",
    "version": 3
   },
   "file_extension": ".py",
   "mimetype": "text/x-python",
   "name": "python",
   "nbconvert_exporter": "python",
   "pygments_lexer": "ipython3",
   "version": "3.9.13"
  }
 },
 "nbformat": 4,
 "nbformat_minor": 5
}
